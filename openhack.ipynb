{
 "cells": [
  {
   "cell_type": "code",
   "execution_count": 5,
   "metadata": {},
   "outputs": [],
   "source": [
    "import os\n",
    "os.environ[\"TF_CPP_MIN_LOG_LEVEL\"]=\"3\"\n",
    "import tensorflow as tf\n",
    "import numpy as np\n",
    "import cv2\n",
    "import shutil\n",
    "import seaborn as sns\n",
    "import random"
   ]
  },
  {
   "cell_type": "code",
   "execution_count": 4,
   "metadata": {},
   "outputs": [],
   "source": [
    "folders = os.listdir('gear_images')\n",
    "for folder in folders:\n",
    "    os.mkdir(os.path.join(\"Dataset\", \"Train\", folder))\n",
    "    os.mkdir(os.path.join(\"Dataset\", \"Test\", folder))\n",
    "    os.mkdir(os.path.join(\"Dataset\", \"Validation\", folder))"
   ]
  },
  {
   "cell_type": "code",
   "execution_count": 6,
   "metadata": {},
   "outputs": [],
   "source": [
    "for folder in folders:\n",
    "    files = os.listdir(os.path.join(\"gear_images\", folder))\n",
    "    random.shuffle(files)\n",
    "    m = len(files)\n",
    "    \n",
    "    train_files = files[0 : int( 0.7 * m)]\n",
    "    validation_files = files[int( 0.7 * m) : int( 0.85 * m)]\n",
    "    test_files = files[int( 0.85 * m) :]\n",
    "    \n",
    "    for file in train_files:\n",
    "        shutil.copy(os.path.join(\"gear_images\", folder, file), os.path.join(\"Dataset\", \"Train\", folder, file))\n",
    "    for file in validation_files:\n",
    "        shutil.copy(os.path.join(\"gear_images\", folder, file), os.path.join(\"Dataset\", \"Validation\", folder, file))\n",
    "    for file in test_files:\n",
    "        shutil.copy(os.path.join(\"gear_images\", folder, file), os.path.join(\"Dataset\", \"Test\", folder, file))"
   ]
  },
  {
   "cell_type": "code",
   "execution_count": null,
   "metadata": {},
   "outputs": [],
   "source": [
    "api_endpoint = \"https://southcentralus.api.cognitive.microsoft.com/customvision/v1.1/Prediction/3620a4fa-71b9-41cf-b8b8-6b68437e56ee/image?iterationId=88c06f9c-14e7-44e2-a9a7-3897ea69df59\"\n",
    "Prediction_Key = \"a119055489f94732bcf36f91356437a2\"\n",
    "Content_Type = \"application/octet-stream\"\n",
    "\n",
    "\n",
    "\n",
    "folders = [\"hardshell_jackets\", \"insulated_jackets\"]\n",
    "\n",
    "for folder in folders:\n",
    "    label = folder\n",
    "    files = os.listdir(\"Dataset\", folder, file)\n",
    "    for file in files:\n",
    "        img = cv2.imread()"
   ]
  }
 ],
 "metadata": {
  "kernelspec": {
   "display_name": "Python 3",
   "language": "python",
   "name": "python3"
  },
  "language_info": {
   "codemirror_mode": {
    "name": "ipython",
    "version": 3
   },
   "file_extension": ".py",
   "mimetype": "text/x-python",
   "name": "python",
   "nbconvert_exporter": "python",
   "pygments_lexer": "ipython3",
   "version": "3.6.4"
  }
 },
 "nbformat": 4,
 "nbformat_minor": 2
}
