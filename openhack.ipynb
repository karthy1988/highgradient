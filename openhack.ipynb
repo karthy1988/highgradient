{
 "cells": [
  {
   "cell_type": "code",
   "execution_count": 32,
   "metadata": {},
   "outputs": [],
   "source": [
    "import os\n",
    "os.environ[\"TF_CPP_MIN_LOG_LEVEL\"]=\"3\"\n",
    "import tensorflow as tf\n",
    "import numpy as np\n",
    "import cv2\n",
    "import shutil\n",
    "import seaborn as sns\n",
    "import random\n",
    "from PIL import Image\n",
    "import matplotlib.pyplot as plt\n",
    "%matplotlib inline"
   ]
  },
  {
   "cell_type": "code",
   "execution_count": 4,
   "metadata": {},
   "outputs": [],
   "source": [
    "folders = os.listdir('gear_images')\n",
    "for folder in folders:\n",
    "    os.mkdir(os.path.join(\"Dataset\", \"Train\", folder))\n",
    "    os.mkdir(os.path.join(\"Dataset\", \"Test\", folder))\n",
    "    os.mkdir(os.path.join(\"Dataset\", \"Validation\", folder))"
   ]
  },
  {
   "cell_type": "code",
   "execution_count": 6,
   "metadata": {},
   "outputs": [],
   "source": [
    "for folder in folders:\n",
    "    files = os.listdir(os.path.join(\"gear_images\", folder))\n",
    "    random.shuffle(files)\n",
    "    m = len(files)\n",
    "    \n",
    "    train_files = files[0 : int( 0.7 * m)]\n",
    "    validation_files = files[int( 0.7 * m) : int( 0.85 * m)]\n",
    "    test_files = files[int( 0.85 * m) :]\n",
    "    \n",
    "    for file in train_files:\n",
    "        shutil.copy(os.path.join(\"gear_images\", folder, file), os.path.join(\"Dataset\", \"Train\", folder, file))\n",
    "    for file in validation_files:\n",
    "        shutil.copy(os.path.join(\"gear_images\", folder, file), os.path.join(\"Dataset\", \"Validation\", folder, file))\n",
    "    for file in test_files:\n",
    "        shutil.copy(os.path.join(\"gear_images\", folder, file), os.path.join(\"Dataset\", \"Test\", folder, file))"
   ]
  },
  {
   "cell_type": "code",
   "execution_count": null,
   "metadata": {},
   "outputs": [],
   "source": []
  },
  {
   "cell_type": "code",
   "execution_count": 35,
   "metadata": {},
   "outputs": [
    {
     "name": "stdout",
     "output_type": "stream",
     "text": [
      "Predicted : hardshell_jackets\n",
      "Probability : 0.964253247\n"
     ]
    }
   ],
   "source": [
    "vision_base_url = \"https://southcentralus.api.cognitive.microsoft.com/customvision/v1.1/Prediction/3620a4fa-71b9-41cf-b8b8-6b68437e56ee/url?iterationId=88c06f9c-14e7-44e2-a9a7-3897ea69df59\" \n",
    "subscription_key = \"a119055489f94732bcf36f91356437a2\"\n",
    "assert subscription_key\n",
    "vision_analyze_url = vision_base_url# + \"analyze\"\n",
    "image_url = \"http://www.isbjornofsweden.com/images/2.5747/isbjorn-monsune-hardshell-jacket.jpeg\"\n",
    "# image_url = \"https://images.pexels.com/photos/104827/cat-pet-animal-domestic-104827.jpeg?auto=compress&cs=tinysrgb&h=350\"\n",
    "\n",
    "# from urllib.request import urlopen\n",
    "# f = open('test.jpg','wb')\n",
    "# f.write(urlopen(image_url).read())\n",
    "# f.close()\n",
    "\n",
    "# img = Image.open('test.jpg')\n",
    "# img = cv2.imread('test.jpg')\n",
    "# plt.show(img)\n",
    "\n",
    "Content_Type = \"application/json\"\n",
    "\n",
    "import requests\n",
    "headers  = {'Prediction-Key': subscription_key , 'Content-Type' : Content_Type}\n",
    "# params   = {'visualFeatures': 'Categories,Description,Color'}\n",
    "data     = {'url': image_url}\n",
    "response = requests.post(vision_analyze_url, headers=headers, json=data)\n",
    "response.raise_for_status()\n",
    "analysis = response.json()\n",
    "# print(analysis['Predictions'])\n",
    "\n",
    "predictions = analysis['Predictions']\n",
    "prob = 0\n",
    "class_name = \"\"\n",
    "\n",
    "for pred in predictions:\n",
    "    if prob < pred['Probability']:\n",
    "        prob = pred['Probability']\n",
    "        class_name = pred[\"Tag\"]\n",
    "\n",
    "if prob < 0.90:\n",
    "    print(\"Predicted : Others\")\n",
    "else:\n",
    "    print(\"Predicted : \" + class_name)\n",
    "    print(\"Probability : \" + str(prob))\n",
    "\n",
    "# img = cv2.imread(\"Dataset/Validation/insulated_jackets/2032558_209_main.jpg\")\n",
    "\n",
    "# folders = [\"hardshell_jackets\", \"insulated_jackets\"]\n",
    "\n",
    "# for folder in folders:\n",
    "#     label = folder\n",
    "#     files = os.listdir(\"Dataset\", folder, file)\n",
    "#     for file in files:\n",
    "#         img = cv2.imread()"
   ]
  },
  {
   "cell_type": "code",
   "execution_count": null,
   "metadata": {},
   "outputs": [],
   "source": [
    "img = cv2.imread(\"\")"
   ]
  }
 ],
 "metadata": {
  "kernelspec": {
   "display_name": "Python 3",
   "language": "python",
   "name": "python3"
  },
  "language_info": {
   "codemirror_mode": {
    "name": "ipython",
    "version": 3
   },
   "file_extension": ".py",
   "mimetype": "text/x-python",
   "name": "python",
   "nbconvert_exporter": "python",
   "pygments_lexer": "ipython3",
   "version": "3.6.4"
  }
 },
 "nbformat": 4,
 "nbformat_minor": 2
}
